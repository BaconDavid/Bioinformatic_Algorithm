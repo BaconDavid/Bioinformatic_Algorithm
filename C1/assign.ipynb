{
 "cells": [
  {
   "cell_type": "markdown",
   "metadata": {},
   "source": [
    "# Section 1 Where in the Genome does replication start?"
   ]
  },
  {
   "cell_type": "code",
   "execution_count": 1,
   "metadata": {},
   "outputs": [],
   "source": [
    "import pandas as pd"
   ]
  },
  {
   "cell_type": "markdown",
   "metadata": {},
   "source": [
    "## 1.2"
   ]
  },
  {
   "cell_type": "code",
   "execution_count": 3,
   "metadata": {},
   "outputs": [
    {
     "name": "stdout",
     "output_type": "stream",
     "text": [
      "1\n"
     ]
    }
   ],
   "source": [
    "#statistic the length of the genome\n",
    "def pattern_count(text: str, pattern: str) -> int:\n",
    "    pattern_length = len(pattern)\n",
    "    count = 0\n",
    "    for i in range(len(text) - pattern_length + 1):\n",
    "        if text[i:i+pattern_length] == pattern:\n",
    "            count += 1\n",
    "    return count\n",
    "\n",
    "### test\n",
    "text = 'AGCGTGCCGAAATTT'\n",
    "pattern = 'TTT'\n"
   ]
  }
 ],
 "metadata": {
  "kernelspec": {
   "display_name": "Python 3",
   "language": "python",
   "name": "python3"
  },
  "language_info": {
   "codemirror_mode": {
    "name": "ipython",
    "version": 3
   },
   "file_extension": ".py",
   "mimetype": "text/x-python",
   "name": "python",
   "nbconvert_exporter": "python",
   "pygments_lexer": "ipython3",
   "version": "3.10.4"
  }
 },
 "nbformat": 4,
 "nbformat_minor": 2
}
