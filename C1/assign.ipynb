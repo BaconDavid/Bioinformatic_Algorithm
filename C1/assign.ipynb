{
 "cells": [
  {
   "cell_type": "markdown",
   "metadata": {},
   "source": [
    "# Section 1 Where in the Genome does replication start?"
   ]
  },
  {
   "cell_type": "code",
   "execution_count": 11,
   "metadata": {},
   "outputs": [
    {
     "name": "stdout",
     "output_type": "stream",
     "text": [
      "[[15  9 14  9]\n",
      " [ 9 10  9 10]\n",
      " [14  9 15  9]\n",
      " [ 9 10  9 10]]\n"
     ]
    }
   ],
   "source": [
    "import numpy as np\n",
    "\n",
    "matrix = np.array([[0,1,1,1],[1,0,1,0],[1,1,0,1],[1,0,1,0]])\n",
    "#multiple the same matirix multiple times\n",
    "print(np.linalg.matrix_power(matrix, 4))\n"
   ]
  },
  {
   "cell_type": "code",
   "execution_count": 2,
   "metadata": {},
   "outputs": [],
   "source": [
    "import pandas as pd\n",
    "import numpy as np"
   ]
  },
  {
   "cell_type": "markdown",
   "metadata": {},
   "source": [
    "## 1.2"
   ]
  },
  {
   "cell_type": "code",
   "execution_count": 3,
   "metadata": {},
   "outputs": [],
   "source": [
    "#statistic the length of the genome\n",
    "def pattern_count(text: str, pattern: str) -> int:\n",
    "    pattern_length = len(pattern)\n",
    "    count = 0\n",
    "    for i in range(len(text) - pattern_length + 1):\n",
    "        if text[i:i+pattern_length] == pattern:\n",
    "            count += 1\n",
    "    return count\n",
    "\n",
    "### test\n",
    "text = 'AGCGTGCCGAAATTT'\n",
    "pattern = 'TTT'\n"
   ]
  },
  {
   "cell_type": "markdown",
   "metadata": {},
   "source": [
    "# 1.3"
   ]
  },
  {
   "cell_type": "code",
   "execution_count": 4,
   "metadata": {},
   "outputs": [
    {
     "name": "stdout",
     "output_type": "stream",
     "text": [
      "['GCAT', 'CATG']\n"
     ]
    }
   ],
   "source": [
    "def frequent_words(text: str, k: int) -> list[str]:\n",
    "    \"\"\"Find the most frequent k-mers in a given text.\"\"\"\n",
    "    patterns = {}\n",
    "    frequent_patterns = []\n",
    "    for i in range(len(text) - k + 1):\n",
    "        pattern = text[i:i+k]\n",
    "        if patterns.get(pattern):\n",
    "            patterns[pattern] += 1\n",
    "        else:\n",
    "            patterns[pattern] = 1\n",
    "    # find patterns with most occurrences\n",
    "    max_value = find_max_value(patterns)\n",
    "    for pattern, value in patterns.items():\n",
    "        if value == max_value:\n",
    "            frequent_patterns.append(pattern)\n",
    "\n",
    "    return frequent_patterns\n",
    "\n",
    "def find_max_value(dict: dict) -> int:\n",
    "    return max(dict.values())\n",
    "\n",
    "seq = 'ACGTTGCATGTCGCATGATGCATGAGAGCT'\n",
    "k = 4\n",
    "print(frequent_words(seq, k))"
   ]
  },
  {
   "cell_type": "markdown",
   "metadata": {},
   "source": [
    "![overlap_words](../Figure/Figure/C1/overlap_words.png)\n",
    "As stated, a k-mer might be random substring of another larger k-mer"
   ]
  },
  {
   "cell_type": "markdown",
   "metadata": {},
   "source": [
    "![random_kmer](../Figure/Figure/C1/Non_Overlapping.png)\n"
   ]
  },
  {
   "cell_type": "markdown",
   "metadata": {},
   "source": [
    "如上图, 我们把问题简化成目标k-mer可以插入的位置, 那么就是N-t个可能位置。注意这里没有考虑overlap的情况！"
   ]
  },
  {
   "cell_type": "markdown",
   "metadata": {},
   "source": [
    "1.3 Reverse DNA"
   ]
  },
  {
   "cell_type": "code",
   "execution_count": 7,
   "metadata": {},
   "outputs": [
    {
     "name": "stdout",
     "output_type": "stream",
     "text": [
      "ACCGGGTTTT\n",
      "[0, 2, 4]\n"
     ]
    }
   ],
   "source": [
    "def reverse_complement(pattern: str) -> str:\n",
    "    \"\"\"Calculate the reverse complement of a DNA pattern.\"\"\"\n",
    "    complement = {'A': 'T', 'T': 'A', 'C': 'G', 'G': 'C'}\n",
    "    return ''.join(complement[base] for base in reversed(pattern))\n",
    "\n",
    "test_input = 'AAAACCCGGT'\n",
    "print(reverse_complement(test_input))\n",
    "\n",
    "# Insert your pattern_matching function here, along with any subroutines you need\n",
    "def pattern_matching(pattern: str, genome: str) -> list[int]:\n",
    "    \"\"\"Find all occurrences of a pattern in a genome.\"\"\"\n",
    "    positions = []\n",
    "    for i in range(len(genome) - len(pattern) + 1):\n",
    "        if genome[i:i+len(pattern)] == pattern:\n",
    "            positions.append(i)\n",
    "    return positions\n",
    "\n",
    "test_pattern = 'ATA'\n",
    "test_genome = 'ATATATA'\n",
    "print(pattern_matching(test_pattern, test_genome))\n",
    "\n"
   ]
  },
  {
   "cell_type": "markdown",
   "metadata": {},
   "source": [
    "for the whole genoem\n"
   ]
  },
  {
   "cell_type": "code",
   "execution_count": 15,
   "metadata": {},
   "outputs": [
    {
     "name": "stdout",
     "output_type": "stream",
     "text": [
      "116556 149355 151913 152013 152394 186189 194276 200076 224527 307692 479770 610980 653338 679985 768828 878903 985368\n"
     ]
    }
   ],
   "source": [
    "with open('./Vibrio_cholerae.txt', 'r') as genome:\n",
    "    genome_seq = genome.read()\n",
    "test_pattern = 'ATGATCAAG'\n",
    "start_pos = pattern_matching(test_pattern, genome_seq)\n",
    "#output space separated integers\n",
    "print(' '.join(map(str, start_pos)))\n"
   ]
  },
  {
   "cell_type": "markdown",
   "metadata": {},
   "source": [
    "Next we want to find k-mers that occur more than t times in a string of L.  \n",
    "Sample Input 1:  \n",
    "CGGACTCGACAGATGTGAAGAACGACAATGTGAAGACTCGACACGACAGAGTGAAGAGAAGAGGAAACATTGTAA  \n",
    "5 50 4  "
   ]
  }
 ],
 "metadata": {
  "kernelspec": {
   "display_name": "Python 3",
   "language": "python",
   "name": "python3"
  },
  "language_info": {
   "codemirror_mode": {
    "name": "ipython",
    "version": 3
   },
   "file_extension": ".py",
   "mimetype": "text/x-python",
   "name": "python",
   "nbconvert_exporter": "python",
   "pygments_lexer": "ipython3",
   "version": "3.10.4"
  }
 },
 "nbformat": 4,
 "nbformat_minor": 2
}
